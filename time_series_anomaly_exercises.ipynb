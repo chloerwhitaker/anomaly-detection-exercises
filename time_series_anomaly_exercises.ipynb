{
 "cells": [
  {
   "cell_type": "markdown",
   "id": "8b1ab472",
   "metadata": {},
   "source": [
    "# Time Series Anomaly Exercises"
   ]
  },
  {
   "cell_type": "markdown",
   "id": "6c1c8d71",
   "metadata": {},
   "source": [
    "The dataset for these exercises lives in the Codeup Data Science MySQL Server. The database name is curriculum_logs.\n",
    "\n",
    "Hint: You will need to explore the database and significantly adjust your acquisition step (yay SQL!)"
   ]
  },
  {
   "cell_type": "markdown",
   "id": "b4ec9093",
   "metadata": {},
   "source": [
    "1. Label students by the program they are in."
   ]
  },
  {
   "cell_type": "markdown",
   "id": "78b5f876",
   "metadata": {},
   "source": [
    "2. Is it possible to identify the user_id of a staff member?"
   ]
  },
  {
   "cell_type": "markdown",
   "id": "006b3498",
   "metadata": {},
   "source": [
    "3. Identify students who are accessing our curriculum pages beyond the end of their time at Codeup."
   ]
  },
  {
   "cell_type": "markdown",
   "id": "9077b9a7",
   "metadata": {},
   "source": []
  }
 ],
 "metadata": {
  "kernelspec": {
   "display_name": "Python 3",
   "language": "python",
   "name": "python3"
  },
  "language_info": {
   "codemirror_mode": {
    "name": "ipython",
    "version": 3
   },
   "file_extension": ".py",
   "mimetype": "text/x-python",
   "name": "python",
   "nbconvert_exporter": "python",
   "pygments_lexer": "ipython3",
   "version": "3.8.8"
  }
 },
 "nbformat": 4,
 "nbformat_minor": 5
}

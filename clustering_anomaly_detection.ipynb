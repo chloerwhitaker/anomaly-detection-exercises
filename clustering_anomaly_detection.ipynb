{
 "cells": [
  {
   "cell_type": "markdown",
   "id": "c2e558e2",
   "metadata": {},
   "source": [
    "# Anomaly Detection with Clustering Exercises\n"
   ]
  },
  {
   "cell_type": "markdown",
   "id": "06719748",
   "metadata": {},
   "source": [
    "### Clustering - DBSCAN\n"
   ]
  },
  {
   "cell_type": "markdown",
   "id": "b1de7b6d",
   "metadata": {},
   "source": [
    "### Imports"
   ]
  },
  {
   "cell_type": "code",
   "execution_count": 2,
   "id": "06f9819e",
   "metadata": {},
   "outputs": [],
   "source": [
    "# imports\n",
    "import numpy as np\n",
    "import pandas as pd\n",
    "\n",
    "# Visualizing\n",
    "import matplotlib.pyplot as plt\n",
    "import seaborn as sns\n",
    "\n",
    "# DBSCAN import\n",
    "from sklearn.cluster import DBSCAN\n",
    "\n",
    "# Scaler import\n",
    "from sklearn.preprocessing import MinMaxScaler\n",
    "\n",
    "# Ignore Warnings\n",
    "import warnings\n",
    "warnings.filterwarnings(\"ignore\")\n",
    "\n",
    "# Remove Limits On Viewing Dataframes\n",
    "pd.set_option('display.max_columns', None)\n",
    "\n",
    "# My Files\n",
    "import env"
   ]
  },
  {
   "cell_type": "markdown",
   "id": "32ab345d",
   "metadata": {},
   "source": [
    "### Acquire "
   ]
  },
  {
   "cell_type": "code",
   "execution_count": 3,
   "id": "558e6c37",
   "metadata": {},
   "outputs": [],
   "source": [
    "curr_logs = pd.read_csv('curriculum_logs.csv')"
   ]
  },
  {
   "cell_type": "code",
   "execution_count": 4,
   "id": "8f7c6b9c",
   "metadata": {},
   "outputs": [
    {
     "data": {
      "text/html": [
       "<div>\n",
       "<style scoped>\n",
       "    .dataframe tbody tr th:only-of-type {\n",
       "        vertical-align: middle;\n",
       "    }\n",
       "\n",
       "    .dataframe tbody tr th {\n",
       "        vertical-align: top;\n",
       "    }\n",
       "\n",
       "    .dataframe thead th {\n",
       "        text-align: right;\n",
       "    }\n",
       "</style>\n",
       "<table border=\"1\" class=\"dataframe\">\n",
       "  <thead>\n",
       "    <tr style=\"text-align: right;\">\n",
       "      <th></th>\n",
       "      <th>Unnamed: 0</th>\n",
       "      <th>Unnamed: 0.1</th>\n",
       "      <th>date</th>\n",
       "      <th>time</th>\n",
       "      <th>path</th>\n",
       "      <th>user_id</th>\n",
       "      <th>cohort_id</th>\n",
       "      <th>program_id</th>\n",
       "      <th>ip</th>\n",
       "      <th>name</th>\n",
       "      <th>slack</th>\n",
       "      <th>start_date</th>\n",
       "      <th>end_date</th>\n",
       "      <th>created_at</th>\n",
       "      <th>updated_at</th>\n",
       "    </tr>\n",
       "  </thead>\n",
       "  <tbody>\n",
       "    <tr>\n",
       "      <th>0</th>\n",
       "      <td>0</td>\n",
       "      <td>0</td>\n",
       "      <td>2018-01-26</td>\n",
       "      <td>09:55:03</td>\n",
       "      <td>/</td>\n",
       "      <td>1</td>\n",
       "      <td>8.0</td>\n",
       "      <td>1</td>\n",
       "      <td>97.105.19.61</td>\n",
       "      <td>Hampton</td>\n",
       "      <td>#hampton</td>\n",
       "      <td>2015-09-22</td>\n",
       "      <td>2016-02-06</td>\n",
       "      <td>2016-06-14 19:52:26</td>\n",
       "      <td>2016-06-14 19:52:26</td>\n",
       "    </tr>\n",
       "  </tbody>\n",
       "</table>\n",
       "</div>"
      ],
      "text/plain": [
       "   Unnamed: 0  Unnamed: 0.1        date      time path  user_id  cohort_id  \\\n",
       "0           0             0  2018-01-26  09:55:03    /        1        8.0   \n",
       "\n",
       "   program_id            ip     name     slack  start_date    end_date  \\\n",
       "0           1  97.105.19.61  Hampton  #hampton  2015-09-22  2016-02-06   \n",
       "\n",
       "            created_at           updated_at  \n",
       "0  2016-06-14 19:52:26  2016-06-14 19:52:26  "
      ]
     },
     "execution_count": 4,
     "metadata": {},
     "output_type": "execute_result"
    }
   ],
   "source": [
    "curr_logs.head(1)"
   ]
  },
  {
   "cell_type": "markdown",
   "id": "7ab469a6",
   "metadata": {},
   "source": [
    "### Prepare"
   ]
  },
  {
   "cell_type": "code",
   "execution_count": 5,
   "id": "ee4feb9d",
   "metadata": {},
   "outputs": [
    {
     "data": {
      "text/html": [
       "<div>\n",
       "<style scoped>\n",
       "    .dataframe tbody tr th:only-of-type {\n",
       "        vertical-align: middle;\n",
       "    }\n",
       "\n",
       "    .dataframe tbody tr th {\n",
       "        vertical-align: top;\n",
       "    }\n",
       "\n",
       "    .dataframe thead th {\n",
       "        text-align: right;\n",
       "    }\n",
       "</style>\n",
       "<table border=\"1\" class=\"dataframe\">\n",
       "  <thead>\n",
       "    <tr style=\"text-align: right;\">\n",
       "      <th></th>\n",
       "      <th>Unnamed: 0</th>\n",
       "      <th>Unnamed: 0.1</th>\n",
       "      <th>date</th>\n",
       "      <th>time</th>\n",
       "      <th>path</th>\n",
       "      <th>user_id</th>\n",
       "      <th>cohort_id</th>\n",
       "      <th>program_id</th>\n",
       "      <th>ip</th>\n",
       "      <th>name</th>\n",
       "      <th>slack</th>\n",
       "      <th>start_date</th>\n",
       "      <th>end_date</th>\n",
       "      <th>created_at</th>\n",
       "      <th>updated_at</th>\n",
       "    </tr>\n",
       "  </thead>\n",
       "  <tbody>\n",
       "    <tr>\n",
       "      <th>0</th>\n",
       "      <td>0</td>\n",
       "      <td>0</td>\n",
       "      <td>2018-01-26</td>\n",
       "      <td>09:55:03</td>\n",
       "      <td>/</td>\n",
       "      <td>1</td>\n",
       "      <td>8.0</td>\n",
       "      <td>1</td>\n",
       "      <td>97.105.19.61</td>\n",
       "      <td>Hampton</td>\n",
       "      <td>#hampton</td>\n",
       "      <td>2015-09-22</td>\n",
       "      <td>2016-02-06</td>\n",
       "      <td>2016-06-14 19:52:26</td>\n",
       "      <td>2016-06-14 19:52:26</td>\n",
       "    </tr>\n",
       "  </tbody>\n",
       "</table>\n",
       "</div>"
      ],
      "text/plain": [
       "   Unnamed: 0  Unnamed: 0.1        date      time path  user_id  cohort_id  \\\n",
       "0           0             0  2018-01-26  09:55:03    /        1        8.0   \n",
       "\n",
       "   program_id            ip     name     slack  start_date    end_date  \\\n",
       "0           1  97.105.19.61  Hampton  #hampton  2015-09-22  2016-02-06   \n",
       "\n",
       "            created_at           updated_at  \n",
       "0  2016-06-14 19:52:26  2016-06-14 19:52:26  "
      ]
     },
     "execution_count": 5,
     "metadata": {},
     "output_type": "execute_result"
    }
   ],
   "source": [
    "curr_logs.head(1)"
   ]
  },
  {
   "cell_type": "code",
   "execution_count": 6,
   "id": "b5fc9917",
   "metadata": {},
   "outputs": [],
   "source": [
    "# concat date + time \n",
    "curr_logs['date_time']=curr_logs.date+' '+curr_logs.time"
   ]
  },
  {
   "cell_type": "code",
   "execution_count": 7,
   "id": "3a6b4022",
   "metadata": {},
   "outputs": [],
   "source": [
    "# change date_time to pd datetime\n",
    "curr_logs.date_time = pd.to_datetime(curr_logs.date_time)"
   ]
  },
  {
   "cell_type": "code",
   "execution_count": 8,
   "id": "fb3a1925",
   "metadata": {},
   "outputs": [],
   "source": [
    "# change date to pd datetime\n",
    "curr_logs.date = pd.to_datetime(curr_logs.date)"
   ]
  },
  {
   "cell_type": "code",
   "execution_count": 9,
   "id": "39eb54d2",
   "metadata": {},
   "outputs": [],
   "source": [
    "# change time to pd datetime\n",
    "curr_logs.time = pd.to_datetime(curr_logs.time)"
   ]
  },
  {
   "cell_type": "code",
   "execution_count": 10,
   "id": "765df72f",
   "metadata": {},
   "outputs": [
    {
     "data": {
      "text/html": [
       "<div>\n",
       "<style scoped>\n",
       "    .dataframe tbody tr th:only-of-type {\n",
       "        vertical-align: middle;\n",
       "    }\n",
       "\n",
       "    .dataframe tbody tr th {\n",
       "        vertical-align: top;\n",
       "    }\n",
       "\n",
       "    .dataframe thead th {\n",
       "        text-align: right;\n",
       "    }\n",
       "</style>\n",
       "<table border=\"1\" class=\"dataframe\">\n",
       "  <thead>\n",
       "    <tr style=\"text-align: right;\">\n",
       "      <th></th>\n",
       "      <th>Unnamed: 0</th>\n",
       "      <th>Unnamed: 0.1</th>\n",
       "      <th>date</th>\n",
       "      <th>time</th>\n",
       "      <th>path</th>\n",
       "      <th>user_id</th>\n",
       "      <th>cohort_id</th>\n",
       "      <th>program_id</th>\n",
       "      <th>ip</th>\n",
       "      <th>name</th>\n",
       "      <th>slack</th>\n",
       "      <th>start_date</th>\n",
       "      <th>end_date</th>\n",
       "      <th>created_at</th>\n",
       "      <th>updated_at</th>\n",
       "      <th>date_time</th>\n",
       "    </tr>\n",
       "  </thead>\n",
       "  <tbody>\n",
       "    <tr>\n",
       "      <th>0</th>\n",
       "      <td>0</td>\n",
       "      <td>0</td>\n",
       "      <td>2018-01-26</td>\n",
       "      <td>2022-01-27 09:55:03</td>\n",
       "      <td>/</td>\n",
       "      <td>1</td>\n",
       "      <td>8.0</td>\n",
       "      <td>1</td>\n",
       "      <td>97.105.19.61</td>\n",
       "      <td>Hampton</td>\n",
       "      <td>#hampton</td>\n",
       "      <td>2015-09-22</td>\n",
       "      <td>2016-02-06</td>\n",
       "      <td>2016-06-14 19:52:26</td>\n",
       "      <td>2016-06-14 19:52:26</td>\n",
       "      <td>2018-01-26 09:55:03</td>\n",
       "    </tr>\n",
       "  </tbody>\n",
       "</table>\n",
       "</div>"
      ],
      "text/plain": [
       "   Unnamed: 0  Unnamed: 0.1       date                time path  user_id  \\\n",
       "0           0             0 2018-01-26 2022-01-27 09:55:03    /        1   \n",
       "\n",
       "   cohort_id  program_id            ip     name     slack  start_date  \\\n",
       "0        8.0           1  97.105.19.61  Hampton  #hampton  2015-09-22   \n",
       "\n",
       "     end_date           created_at           updated_at           date_time  \n",
       "0  2016-02-06  2016-06-14 19:52:26  2016-06-14 19:52:26 2018-01-26 09:55:03  "
      ]
     },
     "execution_count": 10,
     "metadata": {},
     "output_type": "execute_result"
    }
   ],
   "source": [
    "curr_logs.head(1)"
   ]
  },
  {
   "cell_type": "code",
   "execution_count": 11,
   "id": "b7489c2b",
   "metadata": {},
   "outputs": [],
   "source": [
    "# set index to date_time\n",
    "curr_logs = curr_logs.set_index(curr_logs.date_time)"
   ]
  },
  {
   "cell_type": "code",
   "execution_count": 12,
   "id": "c853ebc6",
   "metadata": {},
   "outputs": [],
   "source": [
    "# change cohort start to datetime\n",
    "curr_logs.start_date = pd.to_datetime(curr_logs.start_date)"
   ]
  },
  {
   "cell_type": "code",
   "execution_count": 13,
   "id": "043e987b",
   "metadata": {},
   "outputs": [],
   "source": [
    "# change cohort end to datetime\n",
    "curr_logs.end_date = pd.to_datetime(curr_logs.end_date)"
   ]
  },
  {
   "cell_type": "code",
   "execution_count": 14,
   "id": "87523eac",
   "metadata": {},
   "outputs": [],
   "source": [
    "# label students by the program they are in\n",
    "program_id = [curr_logs.program_id == 1, curr_logs.program_id == 2, curr_logs.program_id == 3, curr_logs.program_id == 4]\n",
    "program = ['php','java','data_science','front_end']\n",
    "curr_logs['program'] = np.select(program_id, program)"
   ]
  },
  {
   "cell_type": "code",
   "execution_count": 15,
   "id": "1692cd64",
   "metadata": {},
   "outputs": [],
   "source": [
    "# create column where true or false if staff\n",
    "curr_logs['staff'] = curr_logs.name=='Staff'"
   ]
  },
  {
   "cell_type": "code",
   "execution_count": 16,
   "id": "a1f213da",
   "metadata": {},
   "outputs": [],
   "source": [
    "# create column with date - end date\n",
    "curr_logs['days_after_grad'] = curr_logs.date-curr_logs.end_date"
   ]
  },
  {
   "cell_type": "code",
   "execution_count": 17,
   "id": "71fef76d",
   "metadata": {},
   "outputs": [
    {
     "data": {
      "text/html": [
       "<div>\n",
       "<style scoped>\n",
       "    .dataframe tbody tr th:only-of-type {\n",
       "        vertical-align: middle;\n",
       "    }\n",
       "\n",
       "    .dataframe tbody tr th {\n",
       "        vertical-align: top;\n",
       "    }\n",
       "\n",
       "    .dataframe thead th {\n",
       "        text-align: right;\n",
       "    }\n",
       "</style>\n",
       "<table border=\"1\" class=\"dataframe\">\n",
       "  <thead>\n",
       "    <tr style=\"text-align: right;\">\n",
       "      <th></th>\n",
       "      <th>Unnamed: 0</th>\n",
       "      <th>Unnamed: 0.1</th>\n",
       "      <th>date</th>\n",
       "      <th>time</th>\n",
       "      <th>path</th>\n",
       "      <th>user_id</th>\n",
       "      <th>cohort_id</th>\n",
       "      <th>program_id</th>\n",
       "      <th>ip</th>\n",
       "      <th>name</th>\n",
       "      <th>slack</th>\n",
       "      <th>start_date</th>\n",
       "      <th>end_date</th>\n",
       "      <th>created_at</th>\n",
       "      <th>updated_at</th>\n",
       "      <th>date_time</th>\n",
       "      <th>program</th>\n",
       "      <th>staff</th>\n",
       "      <th>days_after_grad</th>\n",
       "    </tr>\n",
       "    <tr>\n",
       "      <th>date_time</th>\n",
       "      <th></th>\n",
       "      <th></th>\n",
       "      <th></th>\n",
       "      <th></th>\n",
       "      <th></th>\n",
       "      <th></th>\n",
       "      <th></th>\n",
       "      <th></th>\n",
       "      <th></th>\n",
       "      <th></th>\n",
       "      <th></th>\n",
       "      <th></th>\n",
       "      <th></th>\n",
       "      <th></th>\n",
       "      <th></th>\n",
       "      <th></th>\n",
       "      <th></th>\n",
       "      <th></th>\n",
       "      <th></th>\n",
       "    </tr>\n",
       "  </thead>\n",
       "  <tbody>\n",
       "    <tr>\n",
       "      <th>2018-01-26 09:55:03</th>\n",
       "      <td>0</td>\n",
       "      <td>0</td>\n",
       "      <td>2018-01-26</td>\n",
       "      <td>2022-01-27 09:55:03</td>\n",
       "      <td>/</td>\n",
       "      <td>1</td>\n",
       "      <td>8.0</td>\n",
       "      <td>1</td>\n",
       "      <td>97.105.19.61</td>\n",
       "      <td>Hampton</td>\n",
       "      <td>#hampton</td>\n",
       "      <td>2015-09-22</td>\n",
       "      <td>2016-02-06</td>\n",
       "      <td>2016-06-14 19:52:26</td>\n",
       "      <td>2016-06-14 19:52:26</td>\n",
       "      <td>2018-01-26 09:55:03</td>\n",
       "      <td>php</td>\n",
       "      <td>False</td>\n",
       "      <td>720 days</td>\n",
       "    </tr>\n",
       "  </tbody>\n",
       "</table>\n",
       "</div>"
      ],
      "text/plain": [
       "                     Unnamed: 0  Unnamed: 0.1       date                time  \\\n",
       "date_time                                                                      \n",
       "2018-01-26 09:55:03           0             0 2018-01-26 2022-01-27 09:55:03   \n",
       "\n",
       "                    path  user_id  cohort_id  program_id            ip  \\\n",
       "date_time                                                                \n",
       "2018-01-26 09:55:03    /        1        8.0           1  97.105.19.61   \n",
       "\n",
       "                        name     slack start_date   end_date  \\\n",
       "date_time                                                      \n",
       "2018-01-26 09:55:03  Hampton  #hampton 2015-09-22 2016-02-06   \n",
       "\n",
       "                              created_at           updated_at  \\\n",
       "date_time                                                       \n",
       "2018-01-26 09:55:03  2016-06-14 19:52:26  2016-06-14 19:52:26   \n",
       "\n",
       "                              date_time program  staff days_after_grad  \n",
       "date_time                                                               \n",
       "2018-01-26 09:55:03 2018-01-26 09:55:03     php  False        720 days  "
      ]
     },
     "execution_count": 17,
     "metadata": {},
     "output_type": "execute_result"
    }
   ],
   "source": [
    "curr_logs.head(1)"
   ]
  },
  {
   "cell_type": "code",
   "execution_count": 18,
   "id": "85d9daf4",
   "metadata": {},
   "outputs": [],
   "source": [
    "# Drop columns\n",
    "cols_to_drop = ['Unnamed: 0', 'Unnamed: 0.1', 'date', 'time']\n",
    "curr_logs = curr_logs.drop(columns=cols_to_drop)"
   ]
  },
  {
   "cell_type": "code",
   "execution_count": 19,
   "id": "b6a32c45",
   "metadata": {},
   "outputs": [
    {
     "data": {
      "text/html": [
       "<div>\n",
       "<style scoped>\n",
       "    .dataframe tbody tr th:only-of-type {\n",
       "        vertical-align: middle;\n",
       "    }\n",
       "\n",
       "    .dataframe tbody tr th {\n",
       "        vertical-align: top;\n",
       "    }\n",
       "\n",
       "    .dataframe thead th {\n",
       "        text-align: right;\n",
       "    }\n",
       "</style>\n",
       "<table border=\"1\" class=\"dataframe\">\n",
       "  <thead>\n",
       "    <tr style=\"text-align: right;\">\n",
       "      <th></th>\n",
       "      <th>path</th>\n",
       "      <th>user_id</th>\n",
       "      <th>cohort_id</th>\n",
       "      <th>program_id</th>\n",
       "      <th>ip</th>\n",
       "      <th>name</th>\n",
       "      <th>slack</th>\n",
       "      <th>start_date</th>\n",
       "      <th>end_date</th>\n",
       "      <th>created_at</th>\n",
       "      <th>updated_at</th>\n",
       "      <th>date_time</th>\n",
       "      <th>program</th>\n",
       "      <th>staff</th>\n",
       "      <th>days_after_grad</th>\n",
       "    </tr>\n",
       "    <tr>\n",
       "      <th>date_time</th>\n",
       "      <th></th>\n",
       "      <th></th>\n",
       "      <th></th>\n",
       "      <th></th>\n",
       "      <th></th>\n",
       "      <th></th>\n",
       "      <th></th>\n",
       "      <th></th>\n",
       "      <th></th>\n",
       "      <th></th>\n",
       "      <th></th>\n",
       "      <th></th>\n",
       "      <th></th>\n",
       "      <th></th>\n",
       "      <th></th>\n",
       "    </tr>\n",
       "  </thead>\n",
       "  <tbody>\n",
       "    <tr>\n",
       "      <th>2018-01-26 09:55:03</th>\n",
       "      <td>/</td>\n",
       "      <td>1</td>\n",
       "      <td>8.0</td>\n",
       "      <td>1</td>\n",
       "      <td>97.105.19.61</td>\n",
       "      <td>Hampton</td>\n",
       "      <td>#hampton</td>\n",
       "      <td>2015-09-22</td>\n",
       "      <td>2016-02-06</td>\n",
       "      <td>2016-06-14 19:52:26</td>\n",
       "      <td>2016-06-14 19:52:26</td>\n",
       "      <td>2018-01-26 09:55:03</td>\n",
       "      <td>php</td>\n",
       "      <td>False</td>\n",
       "      <td>720 days</td>\n",
       "    </tr>\n",
       "  </tbody>\n",
       "</table>\n",
       "</div>"
      ],
      "text/plain": [
       "                    path  user_id  cohort_id  program_id            ip  \\\n",
       "date_time                                                                \n",
       "2018-01-26 09:55:03    /        1        8.0           1  97.105.19.61   \n",
       "\n",
       "                        name     slack start_date   end_date  \\\n",
       "date_time                                                      \n",
       "2018-01-26 09:55:03  Hampton  #hampton 2015-09-22 2016-02-06   \n",
       "\n",
       "                              created_at           updated_at  \\\n",
       "date_time                                                       \n",
       "2018-01-26 09:55:03  2016-06-14 19:52:26  2016-06-14 19:52:26   \n",
       "\n",
       "                              date_time program  staff days_after_grad  \n",
       "date_time                                                               \n",
       "2018-01-26 09:55:03 2018-01-26 09:55:03     php  False        720 days  "
      ]
     },
     "execution_count": 19,
     "metadata": {},
     "output_type": "execute_result"
    }
   ],
   "source": [
    "curr_logs.head(1)"
   ]
  },
  {
   "cell_type": "markdown",
   "id": "3a2fbbe7",
   "metadata": {},
   "source": [
    "#### Use DBSCAN to detect anomalies in curriculumn access."
   ]
  },
  {
   "cell_type": "code",
   "execution_count": 20,
   "id": "e7cb5642",
   "metadata": {},
   "outputs": [
    {
     "data": {
      "text/html": [
       "<div>\n",
       "<style scoped>\n",
       "    .dataframe tbody tr th:only-of-type {\n",
       "        vertical-align: middle;\n",
       "    }\n",
       "\n",
       "    .dataframe tbody tr th {\n",
       "        vertical-align: top;\n",
       "    }\n",
       "\n",
       "    .dataframe thead th {\n",
       "        text-align: right;\n",
       "    }\n",
       "</style>\n",
       "<table border=\"1\" class=\"dataframe\">\n",
       "  <thead>\n",
       "    <tr style=\"text-align: right;\">\n",
       "      <th></th>\n",
       "      <th>count</th>\n",
       "      <th>nunique</th>\n",
       "    </tr>\n",
       "    <tr>\n",
       "      <th>user_id</th>\n",
       "      <th></th>\n",
       "      <th></th>\n",
       "    </tr>\n",
       "  </thead>\n",
       "  <tbody>\n",
       "    <tr>\n",
       "      <th>1</th>\n",
       "      <td>7404</td>\n",
       "      <td>976</td>\n",
       "    </tr>\n",
       "    <tr>\n",
       "      <th>2</th>\n",
       "      <td>1541</td>\n",
       "      <td>151</td>\n",
       "    </tr>\n",
       "    <tr>\n",
       "      <th>3</th>\n",
       "      <td>1562</td>\n",
       "      <td>169</td>\n",
       "    </tr>\n",
       "    <tr>\n",
       "      <th>4</th>\n",
       "      <td>692</td>\n",
       "      <td>143</td>\n",
       "    </tr>\n",
       "    <tr>\n",
       "      <th>5</th>\n",
       "      <td>1701</td>\n",
       "      <td>197</td>\n",
       "    </tr>\n",
       "    <tr>\n",
       "      <th>...</th>\n",
       "      <td>...</td>\n",
       "      <td>...</td>\n",
       "    </tr>\n",
       "    <tr>\n",
       "      <th>977</th>\n",
       "      <td>86</td>\n",
       "      <td>12</td>\n",
       "    </tr>\n",
       "    <tr>\n",
       "      <th>978</th>\n",
       "      <td>55</td>\n",
       "      <td>18</td>\n",
       "    </tr>\n",
       "    <tr>\n",
       "      <th>979</th>\n",
       "      <td>127</td>\n",
       "      <td>20</td>\n",
       "    </tr>\n",
       "    <tr>\n",
       "      <th>980</th>\n",
       "      <td>3</td>\n",
       "      <td>1</td>\n",
       "    </tr>\n",
       "    <tr>\n",
       "      <th>981</th>\n",
       "      <td>42</td>\n",
       "      <td>9</td>\n",
       "    </tr>\n",
       "  </tbody>\n",
       "</table>\n",
       "<p>911 rows × 2 columns</p>\n",
       "</div>"
      ],
      "text/plain": [
       "         count  nunique\n",
       "user_id                \n",
       "1         7404      976\n",
       "2         1541      151\n",
       "3         1562      169\n",
       "4          692      143\n",
       "5         1701      197\n",
       "...        ...      ...\n",
       "977         86       12\n",
       "978         55       18\n",
       "979        127       20\n",
       "980          3        1\n",
       "981         42        9\n",
       "\n",
       "[911 rows x 2 columns]"
      ]
     },
     "execution_count": 20,
     "metadata": {},
     "output_type": "execute_result"
    }
   ],
   "source": [
    "page_views = curr_logs.groupby(['user_id'])['path'].agg(['count', 'nunique'])\n",
    "page_views"
   ]
  },
  {
   "cell_type": "code",
   "execution_count": 21,
   "id": "fe11b2ce",
   "metadata": {},
   "outputs": [
    {
     "data": {
      "text/plain": [
       "array([[0.41329835, 1.        ],\n",
       "       [0.08597588, 0.15384615],\n",
       "       [0.08714828, 0.17230769],\n",
       "       [0.03857749, 0.14564103],\n",
       "       [0.09490844, 0.20102564],\n",
       "       [0.07855069, 0.22974359],\n",
       "       [0.10060295, 0.17435897],\n",
       "       [0.02690933, 0.09128205],\n",
       "       [0.03260384, 0.14871795],\n",
       "       [0.05141804, 0.14666667]])"
      ]
     },
     "execution_count": 21,
     "metadata": {},
     "output_type": "execute_result"
    }
   ],
   "source": [
    "# create the scaler\n",
    "scaler = MinMaxScaler().fit(page_views)\n",
    "# use the scaler\n",
    "page_views_scaled_array = scaler.transform(page_views)\n",
    "page_views_scaled_array[0:10]"
   ]
  },
  {
   "cell_type": "code",
   "execution_count": 22,
   "id": "d0d46919",
   "metadata": {},
   "outputs": [
    {
     "data": {
      "text/plain": [
       "(911, 2)"
      ]
     },
     "execution_count": 22,
     "metadata": {},
     "output_type": "execute_result"
    }
   ],
   "source": [
    "page_views.shape"
   ]
  },
  {
   "cell_type": "code",
   "execution_count": 23,
   "id": "52e24973",
   "metadata": {},
   "outputs": [
    {
     "name": "stdout",
     "output_type": "stream",
     "text": [
      "DBSCAN(eps=0.1, min_samples=4)\n"
     ]
    }
   ],
   "source": [
    "dbsc = DBSCAN(eps = 0.1, min_samples=4).fit(page_views_scaled_array)\n",
    "print(dbsc)"
   ]
  },
  {
   "cell_type": "code",
   "execution_count": 24,
   "id": "f10f8f07",
   "metadata": {},
   "outputs": [
    {
     "data": {
      "text/plain": [
       "['scaled_count', 'scaled_nunique']"
      ]
     },
     "execution_count": 24,
     "metadata": {},
     "output_type": "execute_result"
    }
   ],
   "source": [
    "# add the scaled value columns back onto the dataframe\n",
    "columns = list(page_views.columns)\n",
    "scaled_columns = [\"scaled_\" + column for column in columns]\n",
    "scaled_columns"
   ]
  },
  {
   "cell_type": "code",
   "execution_count": 25,
   "id": "c4b715d2",
   "metadata": {},
   "outputs": [
    {
     "data": {
      "text/html": [
       "<div>\n",
       "<style scoped>\n",
       "    .dataframe tbody tr th:only-of-type {\n",
       "        vertical-align: middle;\n",
       "    }\n",
       "\n",
       "    .dataframe tbody tr th {\n",
       "        vertical-align: top;\n",
       "    }\n",
       "\n",
       "    .dataframe thead th {\n",
       "        text-align: right;\n",
       "    }\n",
       "</style>\n",
       "<table border=\"1\" class=\"dataframe\">\n",
       "  <thead>\n",
       "    <tr style=\"text-align: right;\">\n",
       "      <th></th>\n",
       "      <th>scaled_count</th>\n",
       "      <th>scaled_nunique</th>\n",
       "    </tr>\n",
       "    <tr>\n",
       "      <th>user_id</th>\n",
       "      <th></th>\n",
       "      <th></th>\n",
       "    </tr>\n",
       "  </thead>\n",
       "  <tbody>\n",
       "    <tr>\n",
       "      <th>1</th>\n",
       "      <td>0.413298</td>\n",
       "      <td>1.000000</td>\n",
       "    </tr>\n",
       "    <tr>\n",
       "      <th>2</th>\n",
       "      <td>0.085976</td>\n",
       "      <td>0.153846</td>\n",
       "    </tr>\n",
       "    <tr>\n",
       "      <th>3</th>\n",
       "      <td>0.087148</td>\n",
       "      <td>0.172308</td>\n",
       "    </tr>\n",
       "    <tr>\n",
       "      <th>4</th>\n",
       "      <td>0.038577</td>\n",
       "      <td>0.145641</td>\n",
       "    </tr>\n",
       "    <tr>\n",
       "      <th>5</th>\n",
       "      <td>0.094908</td>\n",
       "      <td>0.201026</td>\n",
       "    </tr>\n",
       "  </tbody>\n",
       "</table>\n",
       "</div>"
      ],
      "text/plain": [
       "         scaled_count  scaled_nunique\n",
       "user_id                              \n",
       "1            0.413298        1.000000\n",
       "2            0.085976        0.153846\n",
       "3            0.087148        0.172308\n",
       "4            0.038577        0.145641\n",
       "5            0.094908        0.201026"
      ]
     },
     "execution_count": 25,
     "metadata": {},
     "output_type": "execute_result"
    }
   ],
   "source": [
    "# Create a dataframe containing the scaled values\n",
    "scaled_df = pd.DataFrame(page_views_scaled_array, columns=scaled_columns, index=page_views.index)\n",
    "scaled_df.head()"
   ]
  },
  {
   "cell_type": "code",
   "execution_count": 26,
   "id": "0356050a",
   "metadata": {},
   "outputs": [
    {
     "data": {
      "text/html": [
       "<div>\n",
       "<style scoped>\n",
       "    .dataframe tbody tr th:only-of-type {\n",
       "        vertical-align: middle;\n",
       "    }\n",
       "\n",
       "    .dataframe tbody tr th {\n",
       "        vertical-align: top;\n",
       "    }\n",
       "\n",
       "    .dataframe thead th {\n",
       "        text-align: right;\n",
       "    }\n",
       "</style>\n",
       "<table border=\"1\" class=\"dataframe\">\n",
       "  <thead>\n",
       "    <tr style=\"text-align: right;\">\n",
       "      <th></th>\n",
       "      <th>count</th>\n",
       "      <th>nunique</th>\n",
       "    </tr>\n",
       "    <tr>\n",
       "      <th>user_id</th>\n",
       "      <th></th>\n",
       "      <th></th>\n",
       "    </tr>\n",
       "  </thead>\n",
       "  <tbody>\n",
       "    <tr>\n",
       "      <th>1</th>\n",
       "      <td>7404</td>\n",
       "      <td>976</td>\n",
       "    </tr>\n",
       "    <tr>\n",
       "      <th>2</th>\n",
       "      <td>1541</td>\n",
       "      <td>151</td>\n",
       "    </tr>\n",
       "    <tr>\n",
       "      <th>3</th>\n",
       "      <td>1562</td>\n",
       "      <td>169</td>\n",
       "    </tr>\n",
       "    <tr>\n",
       "      <th>4</th>\n",
       "      <td>692</td>\n",
       "      <td>143</td>\n",
       "    </tr>\n",
       "    <tr>\n",
       "      <th>5</th>\n",
       "      <td>1701</td>\n",
       "      <td>197</td>\n",
       "    </tr>\n",
       "  </tbody>\n",
       "</table>\n",
       "</div>"
      ],
      "text/plain": [
       "         count  nunique\n",
       "user_id                \n",
       "1         7404      976\n",
       "2         1541      151\n",
       "3         1562      169\n",
       "4          692      143\n",
       "5         1701      197"
      ]
     },
     "execution_count": 26,
     "metadata": {},
     "output_type": "execute_result"
    }
   ],
   "source": [
    "page_views.head()"
   ]
  },
  {
   "cell_type": "code",
   "execution_count": 27,
   "id": "87481e05",
   "metadata": {},
   "outputs": [
    {
     "data": {
      "text/html": [
       "<div>\n",
       "<style scoped>\n",
       "    .dataframe tbody tr th:only-of-type {\n",
       "        vertical-align: middle;\n",
       "    }\n",
       "\n",
       "    .dataframe tbody tr th {\n",
       "        vertical-align: top;\n",
       "    }\n",
       "\n",
       "    .dataframe thead th {\n",
       "        text-align: right;\n",
       "    }\n",
       "</style>\n",
       "<table border=\"1\" class=\"dataframe\">\n",
       "  <thead>\n",
       "    <tr style=\"text-align: right;\">\n",
       "      <th></th>\n",
       "      <th>count</th>\n",
       "      <th>nunique</th>\n",
       "      <th>scaled_count</th>\n",
       "      <th>scaled_nunique</th>\n",
       "    </tr>\n",
       "    <tr>\n",
       "      <th>user_id</th>\n",
       "      <th></th>\n",
       "      <th></th>\n",
       "      <th></th>\n",
       "      <th></th>\n",
       "    </tr>\n",
       "  </thead>\n",
       "  <tbody>\n",
       "    <tr>\n",
       "      <th>1</th>\n",
       "      <td>7404</td>\n",
       "      <td>976</td>\n",
       "      <td>0.413298</td>\n",
       "      <td>1.000000</td>\n",
       "    </tr>\n",
       "    <tr>\n",
       "      <th>2</th>\n",
       "      <td>1541</td>\n",
       "      <td>151</td>\n",
       "      <td>0.085976</td>\n",
       "      <td>0.153846</td>\n",
       "    </tr>\n",
       "    <tr>\n",
       "      <th>3</th>\n",
       "      <td>1562</td>\n",
       "      <td>169</td>\n",
       "      <td>0.087148</td>\n",
       "      <td>0.172308</td>\n",
       "    </tr>\n",
       "    <tr>\n",
       "      <th>4</th>\n",
       "      <td>692</td>\n",
       "      <td>143</td>\n",
       "      <td>0.038577</td>\n",
       "      <td>0.145641</td>\n",
       "    </tr>\n",
       "    <tr>\n",
       "      <th>5</th>\n",
       "      <td>1701</td>\n",
       "      <td>197</td>\n",
       "      <td>0.094908</td>\n",
       "      <td>0.201026</td>\n",
       "    </tr>\n",
       "    <tr>\n",
       "      <th>...</th>\n",
       "      <td>...</td>\n",
       "      <td>...</td>\n",
       "      <td>...</td>\n",
       "      <td>...</td>\n",
       "    </tr>\n",
       "    <tr>\n",
       "      <th>977</th>\n",
       "      <td>86</td>\n",
       "      <td>12</td>\n",
       "      <td>0.004745</td>\n",
       "      <td>0.011282</td>\n",
       "    </tr>\n",
       "    <tr>\n",
       "      <th>978</th>\n",
       "      <td>55</td>\n",
       "      <td>18</td>\n",
       "      <td>0.003015</td>\n",
       "      <td>0.017436</td>\n",
       "    </tr>\n",
       "    <tr>\n",
       "      <th>979</th>\n",
       "      <td>127</td>\n",
       "      <td>20</td>\n",
       "      <td>0.007034</td>\n",
       "      <td>0.019487</td>\n",
       "    </tr>\n",
       "    <tr>\n",
       "      <th>980</th>\n",
       "      <td>3</td>\n",
       "      <td>1</td>\n",
       "      <td>0.000112</td>\n",
       "      <td>0.000000</td>\n",
       "    </tr>\n",
       "    <tr>\n",
       "      <th>981</th>\n",
       "      <td>42</td>\n",
       "      <td>9</td>\n",
       "      <td>0.002289</td>\n",
       "      <td>0.008205</td>\n",
       "    </tr>\n",
       "  </tbody>\n",
       "</table>\n",
       "<p>911 rows × 4 columns</p>\n",
       "</div>"
      ],
      "text/plain": [
       "         count  nunique  scaled_count  scaled_nunique\n",
       "user_id                                              \n",
       "1         7404      976      0.413298        1.000000\n",
       "2         1541      151      0.085976        0.153846\n",
       "3         1562      169      0.087148        0.172308\n",
       "4          692      143      0.038577        0.145641\n",
       "5         1701      197      0.094908        0.201026\n",
       "...        ...      ...           ...             ...\n",
       "977         86       12      0.004745        0.011282\n",
       "978         55       18      0.003015        0.017436\n",
       "979        127       20      0.007034        0.019487\n",
       "980          3        1      0.000112        0.000000\n",
       "981         42        9      0.002289        0.008205\n",
       "\n",
       "[911 rows x 4 columns]"
      ]
     },
     "execution_count": 27,
     "metadata": {},
     "output_type": "execute_result"
    }
   ],
   "source": [
    "# Merge the scaled and non-scaled values into one dataframe\n",
    "page_views = page_views.merge(scaled_df, left_index=True, right_index=True)\n",
    "page_views"
   ]
  },
  {
   "cell_type": "code",
   "execution_count": 28,
   "id": "627559fd",
   "metadata": {},
   "outputs": [],
   "source": [
    "labels = dbsc.labels_"
   ]
  },
  {
   "cell_type": "code",
   "execution_count": 29,
   "id": "9d491b04",
   "metadata": {},
   "outputs": [
    {
     "data": {
      "text/plain": [
       "array([-1,  0,  0,  0,  0,  0,  0,  0,  0,  0, -1,  0,  0,  0,  0])"
      ]
     },
     "execution_count": 29,
     "metadata": {},
     "output_type": "execute_result"
    }
   ],
   "source": [
    "labels[0:15]"
   ]
  },
  {
   "cell_type": "code",
   "execution_count": 30,
   "id": "1871e040",
   "metadata": {},
   "outputs": [
    {
     "data": {
      "text/plain": [
       " 0    906\n",
       "-1      5\n",
       "Name: labels, dtype: int64"
      ]
     },
     "execution_count": 30,
     "metadata": {},
     "output_type": "execute_result"
    }
   ],
   "source": [
    "#add labels back to the dataframe\n",
    "page_views['labels'] = labels\n",
    "\n",
    "# how many unique labels (clusters) are created by DBSCAN?\n",
    "page_views.labels.value_counts()"
   ]
  },
  {
   "cell_type": "code",
   "execution_count": 31,
   "id": "a5af2716",
   "metadata": {},
   "outputs": [
    {
     "data": {
      "text/html": [
       "<div>\n",
       "<style scoped>\n",
       "    .dataframe tbody tr th:only-of-type {\n",
       "        vertical-align: middle;\n",
       "    }\n",
       "\n",
       "    .dataframe tbody tr th {\n",
       "        vertical-align: top;\n",
       "    }\n",
       "\n",
       "    .dataframe thead th {\n",
       "        text-align: right;\n",
       "    }\n",
       "</style>\n",
       "<table border=\"1\" class=\"dataframe\">\n",
       "  <thead>\n",
       "    <tr style=\"text-align: right;\">\n",
       "      <th></th>\n",
       "      <th>count</th>\n",
       "      <th>nunique</th>\n",
       "      <th>scaled_count</th>\n",
       "      <th>scaled_nunique</th>\n",
       "      <th>labels</th>\n",
       "    </tr>\n",
       "    <tr>\n",
       "      <th>user_id</th>\n",
       "      <th></th>\n",
       "      <th></th>\n",
       "      <th></th>\n",
       "      <th></th>\n",
       "      <th></th>\n",
       "    </tr>\n",
       "  </thead>\n",
       "  <tbody>\n",
       "    <tr>\n",
       "      <th>1</th>\n",
       "      <td>7404</td>\n",
       "      <td>976</td>\n",
       "      <td>0.413298</td>\n",
       "      <td>1.000000</td>\n",
       "      <td>-1</td>\n",
       "    </tr>\n",
       "    <tr>\n",
       "      <th>11</th>\n",
       "      <td>17913</td>\n",
       "      <td>871</td>\n",
       "      <td>1.000000</td>\n",
       "      <td>0.892308</td>\n",
       "      <td>-1</td>\n",
       "    </tr>\n",
       "    <tr>\n",
       "      <th>53</th>\n",
       "      <td>12329</td>\n",
       "      <td>333</td>\n",
       "      <td>0.688254</td>\n",
       "      <td>0.340513</td>\n",
       "      <td>-1</td>\n",
       "    </tr>\n",
       "    <tr>\n",
       "      <th>64</th>\n",
       "      <td>16322</td>\n",
       "      <td>436</td>\n",
       "      <td>0.911177</td>\n",
       "      <td>0.446154</td>\n",
       "      <td>-1</td>\n",
       "    </tr>\n",
       "    <tr>\n",
       "      <th>248</th>\n",
       "      <td>5075</td>\n",
       "      <td>625</td>\n",
       "      <td>0.283274</td>\n",
       "      <td>0.640000</td>\n",
       "      <td>-1</td>\n",
       "    </tr>\n",
       "  </tbody>\n",
       "</table>\n",
       "</div>"
      ],
      "text/plain": [
       "         count  nunique  scaled_count  scaled_nunique  labels\n",
       "user_id                                                      \n",
       "1         7404      976      0.413298        1.000000      -1\n",
       "11       17913      871      1.000000        0.892308      -1\n",
       "53       12329      333      0.688254        0.340513      -1\n",
       "64       16322      436      0.911177        0.446154      -1\n",
       "248       5075      625      0.283274        0.640000      -1"
      ]
     },
     "execution_count": 31,
     "metadata": {},
     "output_type": "execute_result"
    }
   ],
   "source": [
    "page_views[page_views.labels==-1]"
   ]
  },
  {
   "cell_type": "code",
   "execution_count": 32,
   "id": "ebfc3ea4",
   "metadata": {},
   "outputs": [
    {
     "data": {
      "image/png": "[encoded data removed]",
      "text/plain": [
       "<Figure size 432x288 with 1 Axes>"
      ]
     },
     "metadata": {
      "needs_background": "light"
     },
     "output_type": "display_data"
    }
   ],
   "source": [
    "plt.scatter(page_views['scaled_count'], page_views['scaled_nunique'], c=page_views.labels)\n",
    "plt.show()"
   ]
  },
  {
   "cell_type": "code",
   "execution_count": 35,
   "id": "86b698db",
   "metadata": {},
   "outputs": [
    {
     "data": {
      "image/png": "[encoded data removed]",
      "text/plain": [
       "<Figure size 432x288 with 1 Axes>"
      ]
     },
     "metadata": {
      "needs_background": "light"
     },
     "output_type": "display_data"
    }
   ],
   "source": [
    "page_views.labels.value_counts() \n",
    "sns.scatterplot(page_views.scaled_count, page_views.scaled_nunique, hue=page_views.labels);"
   ]
  },
  {
   "cell_type": "code",
   "execution_count": null,
   "id": "f2fa41c9",
   "metadata": {},
   "outputs": [],
   "source": [
    "days_after_grad"
   ]
  },
  {
   "cell_type": "markdown",
   "id": "b2f50952",
   "metadata": {},
   "source": [
    "#### Same thing, different features..."
   ]
  },
  {
   "cell_type": "markdown",
   "id": "0a289378",
   "metadata": {},
   "source": [
    "#### Optional: Use DBSCAN to detect anomalies in other products from the customers dataset.\n",
    "\n"
   ]
  },
  {
   "cell_type": "markdown",
   "id": "831cf4fb",
   "metadata": {},
   "source": [
    "#### Optional: Use DBSCAN to detect anomalies in number of bedrooms and finished square feet of property for the filtered dataset you used in the clustering project (single unit properties with a logerror)."
   ]
  },
  {
   "cell_type": "code",
   "execution_count": null,
   "id": "18f211c4",
   "metadata": {},
   "outputs": [],
   "source": [
    "curr_logs"
   ]
  },
  {
   "cell_type": "code",
   "execution_count": 36,
   "id": "dac7317f",
   "metadata": {},
   "outputs": [
    {
     "data": {
      "text/plain": [
       "path               1\n",
       "user_id            0\n",
       "cohort_id          0\n",
       "program_id         0\n",
       "ip                 0\n",
       "name               0\n",
       "slack              0\n",
       "start_date         0\n",
       "end_date           0\n",
       "created_at         0\n",
       "updated_at         0\n",
       "date_time          0\n",
       "program            0\n",
       "staff              0\n",
       "days_after_grad    0\n",
       "dtype: int64"
      ]
     },
     "execution_count": 36,
     "metadata": {},
     "output_type": "execute_result"
    }
   ],
   "source": [
    "curr_logs.isnull().sum()"
   ]
  },
  {
   "cell_type": "code",
   "execution_count": 37,
   "id": "42eb5b14",
   "metadata": {},
   "outputs": [],
   "source": [
    "# drop null for path column\n",
    "curr_logs = curr_logs[curr_logs.path.notnull()]"
   ]
  },
  {
   "cell_type": "code",
   "execution_count": 38,
   "id": "f5d67a44",
   "metadata": {},
   "outputs": [
    {
     "data": {
      "text/plain": [
       "path               0\n",
       "user_id            0\n",
       "cohort_id          0\n",
       "program_id         0\n",
       "ip                 0\n",
       "name               0\n",
       "slack              0\n",
       "start_date         0\n",
       "end_date           0\n",
       "created_at         0\n",
       "updated_at         0\n",
       "date_time          0\n",
       "program            0\n",
       "staff              0\n",
       "days_after_grad    0\n",
       "dtype: int64"
      ]
     },
     "execution_count": 38,
     "metadata": {},
     "output_type": "execute_result"
    }
   ],
   "source": [
    "curr_logs.isnull().sum()"
   ]
  },
  {
   "cell_type": "code",
   "execution_count": null,
   "id": "7190b563",
   "metadata": {},
   "outputs": [],
   "source": []
  }
 ],
 "metadata": {
  "kernelspec": {
   "display_name": "Python 3",
   "language": "python",
   "name": "python3"
  },
  "language_info": {
   "codemirror_mode": {
    "name": "ipython",
    "version": 3
   },
   "file_extension": ".py",
   "mimetype": "text/x-python",
   "name": "python",
   "nbconvert_exporter": "python",
   "pygments_lexer": "ipython3",
   "version": "3.8.8"
  }
 },
 "nbformat": 4,
 "nbformat_minor": 5
}
